{
  "nbformat": 4,
  "nbformat_minor": 0,
  "metadata": {
    "colab": {
      "name": "CSC345_Week2.ipynb",
      "provenance": [],
      "include_colab_link": true
    },
    "kernelspec": {
      "name": "python3",
      "display_name": "Python 3"
    },
    "language_info": {
      "name": "python"
    }
  },
  "cells": [
    {
      "cell_type": "markdown",
      "metadata": {
        "id": "view-in-github",
        "colab_type": "text"
      },
      "source": [
        "<a href=\"https://colab.research.google.com/github/thetkpark/csc-works/blob/master/CSC345/CSC345_Week2.ipynb\" target=\"_parent\"><img src=\"https://colab.research.google.com/assets/colab-badge.svg\" alt=\"Open In Colab\"/></a>"
      ]
    },
    {
      "cell_type": "code",
      "metadata": {
        "id": "mmLXFIvylrCd"
      },
      "source": [
        "# CSC345 -- Week#2 -- mini-lab  -- Getting to know your data\n",
        "#                     with built-in IRIS flower dataset          \n",
        "# Instruction   -- 1. run the given notebook, \n",
        "#                  2. modify the given code to show the value of \n",
        "#                     petal_width of Row#7\n",
        "#                  3. try to uncomment each plot command and run\n",
        "#                     to see result \n",
        "#\n",
        "import seaborn as sns\n",
        "iris = sns.load_dataset('iris')\n",
        "iris.head()\n",
        "#sns.scatterplot(data=iris)\n",
        "#sns.scatterplot(data=iris, x=\"sepal_length\", y=\"species\")\n",
        "#sl = sns.boxplot(x=iris[\"sepal_length\"])\n",
        "#sw = sns.boxplot(x=iris[\"sepal_width\"])\n",
        "#all = sns.boxplot(data=iris, orient=\"h\", palette=\"Set2\")"
      ],
      "execution_count": null,
      "outputs": []
    }
  ]
}