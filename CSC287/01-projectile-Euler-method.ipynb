{
  "nbformat": 4,
  "nbformat_minor": 0,
  "metadata": {
    "colab": {
      "name": "Untitled0.ipynb",
      "provenance": []
    },
    "kernelspec": {
      "name": "python3",
      "display_name": "Python 3"
    },
    "language_info": {
      "name": "python"
    }
  },
  "cells": [
    {
      "cell_type": "code",
      "metadata": {
        "id": "eUyRddIyaWHd"
      },
      "source": [
        "import numpy as np\n",
        "import matplotlib.pyplot as plt"
      ],
      "execution_count": 2,
      "outputs": []
    },
    {
      "cell_type": "markdown",
      "metadata": {
        "id": "GURPf-7igbrT"
      },
      "source": [
        "Init parameters\n",
        "\n"
      ]
    },
    {
      "cell_type": "code",
      "metadata": {
        "id": "f9y5YOANgi2Q"
      },
      "source": [
        "# initial parameters\n",
        "\n",
        "# inital speed (shooting speed)\n",
        "u = 10\n",
        "\n",
        "# shooting angle (in degree)\n",
        "theta = 90\n",
        "\n",
        "# timestep length (small time period for earh loop)\n",
        "dt = 0.0001\n",
        "\n",
        "# number of timestep (number of iteration)\n",
        "N = 50000\n",
        "\n",
        "# acceleration vector\n",
        "# no horizontal acceleration -> ax = 0\n",
        "# gravity -> ay = -9.8\n",
        "acc = np.array([0, -9.8])\n",
        "\n",
        "sx_max = 0\n"
      ],
      "execution_count": 43,
      "outputs": []
    },
    {
      "cell_type": "markdown",
      "metadata": {
        "id": "1k1pdRLqg_0B"
      },
      "source": [
        "Calculate initial speed in x and y axis"
      ]
    },
    {
      "cell_type": "code",
      "metadata": {
        "colab": {
          "base_uri": "https://localhost:8080/"
        },
        "id": "AYtssNSlhGPa",
        "outputId": "d2b268a5-3548-4c57-ac45-14a429c417f4"
      },
      "source": [
        "ux = u * np.cos(theta/180 * np.pi)\n",
        "uy = u * np.sin(theta/180 * np.pi)\n",
        "print(ux, uy)"
      ],
      "execution_count": 44,
      "outputs": [
        {
          "output_type": "stream",
          "text": [
            "6.123233995736766e-16 10.0\n"
          ],
          "name": "stdout"
        }
      ]
    },
    {
      "cell_type": "markdown",
      "metadata": {
        "id": "LDtQ7vTRgse4"
      },
      "source": [
        "Create and init the arrays of position and velocities"
      ]
    },
    {
      "cell_type": "code",
      "metadata": {
        "id": "2qzbfJvbgs0p"
      },
      "source": [
        "# 2D array for storing x, y of each timestep\n",
        "# pos[i] = [x, y]\n",
        "# vel[i] = [vx, vy]\n",
        "pos = np.zeros((N+1, 2)) \n",
        "vel = np.zeros((N+1, 2))\n",
        "\n",
        "# first row: inital position and velocity\n",
        "# pos[0] = [0, 0]\n",
        "pos[0] = np.array([0,0])\n",
        "\n",
        "# vel[0] = [Ux, Uy] = [U_COS_theta, U_SIN_theta]\n",
        "vel[0] = np.array([ux, uy])"
      ],
      "execution_count": 38,
      "outputs": []
    },
    {
      "cell_type": "markdown",
      "metadata": {
        "id": "duS42TpjiiUT"
      },
      "source": [
        "Looping for the Euler's Method to calculate position and velocity"
      ]
    },
    {
      "cell_type": "code",
      "metadata": {
        "colab": {
          "base_uri": "https://localhost:8080/"
        },
        "id": "ttE1VUbsinzz",
        "outputId": "b26b19e1-f408-4314-c2f4-ff21427ccc15"
      },
      "source": [
        "for i in range (0, N):\n",
        "  vel[i+1] = vel[i] + acc * dt\n",
        "  pos[i+1] = pos[i] + vel[i] * dt\n",
        "  if pos[i+1, 1] == 0:\n",
        "    sx_max = pos[i+1, 0] # get sx_max\n",
        "\n",
        "print(pos)"
      ],
      "execution_count": 39,
      "outputs": [
        {
          "output_type": "stream",
          "text": [
            "[[ 0.00000000e+00  0.00000000e+00]\n",
            " [ 6.12323400e-20  1.00000000e-03]\n",
            " [ 1.22464680e-19  1.99990200e-03]\n",
            " ...\n",
            " [ 3.06149453e-15 -7.24897503e+01]\n",
            " [ 3.06155577e-15 -7.24936501e+01]\n",
            " [ 3.06161700e-15 -7.24975500e+01]]\n"
          ],
          "name": "stdout"
        }
      ]
    },
    {
      "cell_type": "markdown",
      "metadata": {
        "id": "B_LOhIiDjgQe"
      },
      "source": [
        "Ploting x-y position"
      ]
    },
    {
      "cell_type": "code",
      "metadata": {
        "colab": {
          "base_uri": "https://localhost:8080/",
          "height": 296
        },
        "id": "7IGCT4H5jiAZ",
        "outputId": "9947dde8-5429-4488-9a56-61859b4d1997"
      },
      "source": [
        "# x: first colume of the postion array\n",
        "# y: second colume of the position array\n",
        "plt.xlabel('distance (m)')\n",
        "plt.ylabel('height (m)')\n",
        "plt.plot(pos[:,0], pos[:,1])\n",
        "plt.show()\n",
        "print(sx_max)"
      ],
      "execution_count": 40,
      "outputs": [
        {
          "output_type": "display_data",
          "data": {
            "image/png": "[encoded data removed]",
            "text/plain": [
              "<Figure size 432x288 with 1 Axes>"
            ]
          },
          "metadata": {
            "tags": [],
            "needs_background": "light"
          }
        },
        {
          "output_type": "stream",
          "text": [
            "0\n"
          ],
          "name": "stdout"
        }
      ]
    }
  ]
}