{
  "nbformat": 4,
  "nbformat_minor": 0,
  "metadata": {
    "colab": {
      "name": "01-projectile-Euler-method.ipynb",
      "provenance": []
    },
    "kernelspec": {
      "name": "python3",
      "display_name": "Python 3"
    },
    "language_info": {
      "name": "python"
    }
  },
  "cells": [
    {
      "cell_type": "code",
      "metadata": {
        "id": "eUyRddIyaWHd"
      },
      "source": [
        "import numpy as np\n",
        "import matplotlib.pyplot as plt"
      ],
      "execution_count": 1,
      "outputs": []
    },
    {
      "cell_type": "markdown",
      "metadata": {
        "id": "GURPf-7igbrT"
      },
      "source": [
        "Init parameters\n",
        "\n"
      ]
    },
    {
      "cell_type": "code",
      "metadata": {
        "id": "f9y5YOANgi2Q"
      },
      "source": [
        "# initial parameters\n",
        "\n",
        "# inital speed (shooting speed)\n",
        "u = 13\n",
        "\n",
        "# shooting angle (in degree)\n",
        "theta = 45\n",
        "\n",
        "# timestep length (small time period for earh loop)\n",
        "dt = 0.0001\n",
        "\n",
        "# number of timestep (number of iteration)\n",
        "N = 50000\n",
        "\n",
        "# acceleration vector\n",
        "# no horizontal acceleration -> ax = 0\n",
        "# gravity -> ay = -9.8\n",
        "acc = np.array([0, -9.8])\n",
        "\n",
        "sx_max = 0\n"
      ],
      "execution_count": 10,
      "outputs": []
    },
    {
      "cell_type": "markdown",
      "metadata": {
        "id": "1k1pdRLqg_0B"
      },
      "source": [
        "Calculate initial speed in x and y axis"
      ]
    },
    {
      "cell_type": "code",
      "metadata": {
        "colab": {
          "base_uri": "https://localhost:8080/"
        },
        "id": "AYtssNSlhGPa",
        "outputId": "38f91788-7919-4abb-a381-a804b69caf8e"
      },
      "source": [
        "ux = u * np.cos(theta/180 * np.pi)\n",
        "uy = u * np.sin(theta/180 * np.pi)\n",
        "print(ux, uy)"
      ],
      "execution_count": 11,
      "outputs": [
        {
          "output_type": "stream",
          "text": [
            "9.19238815542512 9.192388155425117\n"
          ],
          "name": "stdout"
        }
      ]
    },
    {
      "cell_type": "markdown",
      "metadata": {
        "id": "LDtQ7vTRgse4"
      },
      "source": [
        "Create and init the arrays of position and velocities"
      ]
    },
    {
      "cell_type": "code",
      "metadata": {
        "id": "2qzbfJvbgs0p"
      },
      "source": [
        "# 2D array for storing x, y of each timestep\n",
        "# pos[i] = [x, y]\n",
        "# vel[i] = [vx, vy]\n",
        "pos = np.zeros((N+1, 2)) \n",
        "vel = np.zeros((N+1, 2))\n",
        "\n",
        "# first row: inital position and velocity\n",
        "# pos[0] = [0, 0]\n",
        "pos[0] = np.array([0,0])\n",
        "\n",
        "# vel[0] = [Ux, Uy] = [U_COS_theta, U_SIN_theta]\n",
        "vel[0] = np.array([ux, uy])"
      ],
      "execution_count": 12,
      "outputs": []
    },
    {
      "cell_type": "markdown",
      "metadata": {
        "id": "duS42TpjiiUT"
      },
      "source": [
        "Looping for the Euler's Method to calculate position and velocity"
      ]
    },
    {
      "cell_type": "code",
      "metadata": {
        "colab": {
          "base_uri": "https://localhost:8080/"
        },
        "id": "ttE1VUbsinzz",
        "outputId": "ebedf29c-5fdd-468b-a6e3-3021c01cf3e6"
      },
      "source": [
        "for i in range (0, N):\n",
        "  vel[i+1] = vel[i] + acc * dt\n",
        "  pos[i+1] = pos[i] + vel[i] * dt\n",
        "  if pos[i+1, 1] <= 0:\n",
        "    sx_max = pos[i+1, 0]\n",
        "    break\n",
        "\n",
        "print(pos)"
      ],
      "execution_count": 13,
      "outputs": [
        {
          "output_type": "stream",
          "text": [
            "[[0.         0.        ]\n",
            " [0.00091924 0.00091924]\n",
            " [0.00183848 0.00183838]\n",
            " ...\n",
            " [0.         0.        ]\n",
            " [0.         0.        ]\n",
            " [0.         0.        ]]\n"
          ],
          "name": "stdout"
        }
      ]
    },
    {
      "cell_type": "markdown",
      "metadata": {
        "id": "B_LOhIiDjgQe"
      },
      "source": [
        "Ploting x-y position"
      ]
    },
    {
      "cell_type": "code",
      "metadata": {
        "colab": {
          "base_uri": "https://localhost:8080/",
          "height": 296
        },
        "id": "7IGCT4H5jiAZ",
        "outputId": "8c4946c9-c577-43b6-c57b-23d7c64ae041"
      },
      "source": [
        "# x: first colume of the postion array\n",
        "# y: second colume of the position array\n",
        "plt.xlabel('distance (m)')\n",
        "plt.ylabel('height (m)')\n",
        "plt.plot(pos[:,0], pos[:,1])\n",
        "plt.show()\n",
        "print(sx_max)"
      ],
      "execution_count": 14,
      "outputs": [
        {
          "output_type": "display_data",
          "data": {
            "image/png": "[encoded data removed]",
            "text/plain": [
              "<Figure size 432x288 with 1 Axes>"
            ]
          },
          "metadata": {
            "needs_background": "light"
          }
        },
        {
          "output_type": "stream",
          "text": [
            "17.245839418394194\n"
          ],
          "name": "stdout"
        }
      ]
    },
    {
      "cell_type": "markdown",
      "metadata": {
        "id": "ipjn_W88FlwG"
      },
      "source": [
        "Define the projectile function"
      ]
    },
    {
      "cell_type": "code",
      "metadata": {
        "id": "y9eA0RfPFoGI"
      },
      "source": [
        "def projectile(u, theta, plot=False):\n",
        "  # timestep length (small time period for earh loop)\n",
        "  dt = 0.0001\n",
        "  # number of timestep (number of iteration)\n",
        "  N = 50000\n",
        "  # acceleration vector\n",
        "  acc = np.array([0, -9.8])\n",
        "\n",
        "  sx_max = 0\n",
        "\n",
        "  # calculate ux and uy\n",
        "  ux = u * np.cos(theta/180 * np.pi)\n",
        "  uy = u * np.sin(theta/180 * np.pi)\n",
        "\n",
        "  # 2D array for storing x, y of each timestep\n",
        "  pos = np.zeros((N+1, 2)) \n",
        "  vel = np.zeros((N+1, 2))\n",
        "  # first row: inital position and velocity\n",
        "  pos[0] = np.array([0,0])\n",
        "  # vel[0] = [Ux, Uy] = [U_COS_theta, U_SIN_theta]\n",
        "  vel[0] = np.array([ux, uy])\n",
        "\n",
        "  # Use Euler's method\n",
        "  for i in range (0, N):\n",
        "    vel[i+1] = vel[i] + acc * dt\n",
        "    pos[i+1] = pos[i] + vel[i] * dt\n",
        "    if pos[i+1, 1] <= 0:\n",
        "      sx_max = pos[i+1, 0]\n",
        "      break\n",
        "\n",
        "  # Plot the graph\n",
        "  if plot:\n",
        "    plt.xlabel('distance (m)')\n",
        "    plt.ylabel('height (m)')\n",
        "    plt.plot(pos[:,0], pos[:,1])\n",
        "    plt.show()\n",
        "    print(sx_max)\n",
        "\n",
        "  return sx_max"
      ],
      "execution_count": 24,
      "outputs": []
    },
    {
      "cell_type": "markdown",
      "metadata": {
        "id": "4924VszoGYhh"
      },
      "source": [
        "Vary u and plot"
      ]
    },
    {
      "cell_type": "code",
      "metadata": {
        "colab": {
          "base_uri": "https://localhost:8080/",
          "height": 279
        },
        "id": "z5KazRrGG0da",
        "outputId": "e197fd6e-e3a0-43be-a9cd-371199b325e3"
      },
      "source": [
        "theta = 45\n",
        "n = 20\n",
        "sx_max = []\n",
        "\n",
        "for u in range(n):\n",
        "  sx_max.append(projectile(u,theta))\n",
        "\n",
        "plt.xlabel('u (m/s)')\n",
        "plt.ylabel('sx_max (m)')\n",
        "plt.plot(range(n),sx_max)\n",
        "plt.show()"
      ],
      "execution_count": 28,
      "outputs": [
        {
          "output_type": "display_data",
          "data": {
            "image/png": "[encoded data removed]",
            "text/plain": [
              "<Figure size 432x288 with 1 Axes>"
            ]
          },
          "metadata": {
            "needs_background": "light"
          }
        }
      ]
    },
    {
      "cell_type": "markdown",
      "metadata": {
        "id": "cPq9SjB6I59r"
      },
      "source": [
        "Vary theta and plot"
      ]
    },
    {
      "cell_type": "code",
      "metadata": {
        "colab": {
          "base_uri": "https://localhost:8080/",
          "height": 279
        },
        "id": "6KzMK71vI7oQ",
        "outputId": "cb63f316-70ae-4412-b648-5f491d068d76"
      },
      "source": [
        "u = 10\n",
        "n = 90\n",
        "sx_max = []\n",
        "\n",
        "for theta in range(n):\n",
        "  sx_max.append(projectile(u,theta))\n",
        "\n",
        "plt.xlabel('theta (degree)')\n",
        "plt.ylabel('sx_max (m)')\n",
        "plt.plot(range(n),sx_max)\n",
        "plt.show()"
      ],
      "execution_count": 31,
      "outputs": [
        {
          "output_type": "display_data",
          "data": {
            "image/png": "[encoded data removed]",
            "text/plain": [
              "<Figure size 432x288 with 1 Axes>"
            ]
          },
          "metadata": {
            "needs_background": "light"
          }
        }
      ]
    }
  ]
}